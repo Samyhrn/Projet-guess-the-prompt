{
 "cells": [
  {
   "cell_type": "code",
   "execution_count": 1,
   "metadata": {},
   "outputs": [
    {
     "name": "stdout",
     "output_type": "stream",
     "text": [
      "<Response [200]>\n"
     ]
    }
   ],
   "source": [
    "import base64\n",
    "import os\n",
    "import requests\n",
    "\n",
    "engine_id = \"stable-diffusion-v1-5\"\n",
    "api_host = os.getenv('API_HOST', 'https://api.stability.ai')\n",
    "api_key = \"sk-83pLdqWNDfPpPRfwpTSMSTwmNbrqpv3AfyV5BRXmvUZuR0fQ\"\n",
    "text_prompt=\"a dog meowing\"\n",
    "\n",
    "if api_key is None:\n",
    "    raise Exception(\"Missing Stability API key.\")\n",
    "\n",
    "response = requests.post(\n",
    "    f\"{api_host}/v1/generation/{engine_id}/text-to-image\",\n",
    "    headers={\n",
    "        \"Content-Type\": \"application/json\",\n",
    "        \"Accept\": \"application/json\",\n",
    "        \"Authorization\": f\"Bearer {api_key}\"\n",
    "    },\n",
    "        json={\n",
    "        \"text_prompts\": [\n",
    "            {\n",
    "                \"text\": text_prompt\n",
    "            }\n",
    "        ],\n",
    "        \"cfg_scale\": 7,\n",
    "        \"clip_guidance_preset\": \"FAST_BLUE\",\n",
    "        \"height\": 512,\n",
    "        \"width\": 512,\n",
    "        \"samples\": 1,\n",
    "        \"steps\": 30,\n",
    "    },\n",
    ")\n",
    "print(response)\n",
    "if response.status_code != 200:\n",
    "    raise Exception(\"Non-200 response: \" + str(response.text))\n",
    "\n",
    "data = response.json()\n",
    "\n",
    "for i, image in enumerate(data[\"artifacts\"]):\n",
    "    with open(f\"./out/v1_txt2img_{i}.png\", \"wb\") as f:\n",
    "        f.write(base64.b64decode(image[\"base64\"]))"
   ]
  },
  {
   "cell_type": "code",
   "execution_count": 4,
   "metadata": {},
   "outputs": [
    {
     "name": "stdout",
     "output_type": "stream",
     "text": [
      "You win!, the original sentence was:  a dog meowing\n"
     ]
    }
   ],
   "source": [
    "import spacy\n",
    "nlp = spacy.load(\"en_core_web_md\")\n",
    "remainingTrials = 3\n",
    "doc2 = text_prompt\n",
    "#ask for a sentence\n",
    "while remainingTrials > 0:\n",
    "    doc1 = input(\"Please enter a sentence: \")\n",
    "    doc1 = nlp(doc1)\n",
    "    doc2 = nlp(doc2)\n",
    "    similarity = doc1.similarity(doc2)\n",
    "    \n",
    "    percentage = similarity * 100\n",
    "    if similarity > 0.9:\n",
    "        print(\"You win!, the original sentence was: \", doc2)\n",
    "        break\n",
    "    else:\n",
    "        print(\"Try again, current similarity is \", percentage, \"%\")\n",
    "        remainingTrials -= 1\n",
    "        print(\"You have \", remainingTrials, \" remaining trials\")\n",
    "\n",
    "        if remainingTrials == 0:\n",
    "            print(\"You lost, the original sentence was: \", doc2)\n",
    "            break\n",
    "\n",
    "\n"
   ]
  }
 ],
 "metadata": {
  "kernelspec": {
   "display_name": "base",
   "language": "python",
   "name": "python3"
  },
  "language_info": {
   "codemirror_mode": {
    "name": "ipython",
    "version": 3
   },
   "file_extension": ".py",
   "mimetype": "text/x-python",
   "name": "python",
   "nbconvert_exporter": "python",
   "pygments_lexer": "ipython3",
   "version": "3.9.13"
  },
  "orig_nbformat": 4
 },
 "nbformat": 4,
 "nbformat_minor": 2
}
